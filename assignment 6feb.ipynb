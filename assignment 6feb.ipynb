{
 "cells": [
  {
   "cell_type": "code",
   "execution_count": null,
   "id": "edbdd2e8-8bf1-44cc-8fe4-a3dcc30494c5",
   "metadata": {},
   "outputs": [],
   "source": [
    "#Answer1\n",
    "\"\"\"Abstraction in python is defined as a process of handling complexity by hiding unnecessary information\n",
    "from the user. This is one of the core concepts of object-oriented programming (OOP) languages.\n",
    "Abstraction is used to hide the internal functionality of the function from the users. \n",
    "The users only interact with the basic implementation of the function, but inner working is hidden.\n",
    "User is familiar with that \"what function does\" but they don't know \"how it does.\"\n",
    "\n",
    "In simple words, we all use the smartphone and very much familiar with its functions such as camera, \n",
    "voice-recorder, call-dialing, etc., but we don't know how these operations are happening in the background.\n",
    "\"\"\""
   ]
  },
  {
   "cell_type": "code",
   "execution_count": null,
   "id": "efd53961-0c71-4163-a0ec-2cdeb83ea52d",
   "metadata": {},
   "outputs": [],
   "source": [
    "#Answer 2\n",
    "\"\"\"\"When we are developing any large or enterprise application. Then it’s a good practice to use\n",
    "the concepts of data encapsulation and data abstraction in the coding approach.\n",
    "Both terms are different in meaning but indirectly related to each other.\n",
    "There are two types of programming approaches, Procedural programming and Object-oriented programming.\n",
    "Encapsulation and Abstraction come under an object-oriented approach which is designed for writing easy \n",
    "and readable codes.\n",
    "Encapsulation means storing the code of each functionality in one place. While abstraction is responsible\n",
    "for presenting only non-sensitive information to the user by hiding the sensitive information.\"\"\""
   ]
  },
  {
   "cell_type": "code",
   "execution_count": null,
   "id": "f66270b0-1448-4058-89b0-94b673a117aa",
   "metadata": {},
   "outputs": [],
   "source": [
    "#Answer3\n",
    "\"\"\"Abstract base classes provide a way to define interfaces when other techniques like hasattr()\n",
    "would be clumsy or subtly wrong (for example with magic methods). ABCs introduce virtual subclasses, \n",
    "which are classes that don’t inherit from a class but are still recognized by isinstance() and issubclass()\n",
    "functions. There are many built-in ABCs in Python. ABCs for Data structures like Iterator, Generator, Set, \n",
    "mapping etc. are defined in collections.abc module. The numbers module defines numeric tower which is a \n",
    "collection of base classes for numeric data types. The 'abc' module in Python library provides the \n",
    "infrastructure for defining custom abstract base classes\"\"\""
   ]
  },
  {
   "cell_type": "code",
   "execution_count": null,
   "id": "5272c0d1-8c38-4732-8728-f2ad411bf0c6",
   "metadata": {},
   "outputs": [],
   "source": [
    "#Answer4\n",
    "\"\"\"In Python, abstraction can be achieved by having/using abstract classes and methods in our programs. \n",
    "Understanding Abstract Methods and Classes: An abstract method is a method that is declared, but \n",
    "does not contain implementation.\"\"\""
   ]
  },
  {
   "cell_type": "code",
   "execution_count": null,
   "id": "4d9159b8-64e6-4be7-982f-fcb17fccddbc",
   "metadata": {},
   "outputs": [],
   "source": [
    "#Answer 5\n",
    "\"\"\"\"\"\""
   ]
  }
 ],
 "metadata": {
  "kernelspec": {
   "display_name": "Python 3 (ipykernel)",
   "language": "python",
   "name": "python3"
  },
  "language_info": {
   "codemirror_mode": {
    "name": "ipython",
    "version": 3
   },
   "file_extension": ".py",
   "mimetype": "text/x-python",
   "name": "python",
   "nbconvert_exporter": "python",
   "pygments_lexer": "ipython3",
   "version": "3.10.8"
  }
 },
 "nbformat": 4,
 "nbformat_minor": 5
}
